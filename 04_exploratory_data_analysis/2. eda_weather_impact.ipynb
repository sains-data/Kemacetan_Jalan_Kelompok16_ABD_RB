{
 "cells": [
  {
   "cell_type": "markdown",
   "id": "620609ac",
   "metadata": {},
   "source": [
    "# # ⛈️ Analisis Data Eksploratif: Dampak Cuaca terhadap Lalu Lintas Kota Medan\n",
    "#\n",
    "# **Tujuan Notebook:**\n",
    "# Notebook ini bertujuan untuk menganalisis secara mendalam bagaimana berbagai kondisi cuaca (curah hujan, suhu, jarak pandang, kelembaban) memengaruhi dinamika lalu lintas di Kota Medan, khususnya terhadap kecepatan rata-rata kendaraan.\n",
    "#\n",
    "# **Dataset yang Digunakan:** Data dari Silver Layer HDFS (gabungan trafik dan cuaca yang sudah dibersihkan dan di-join).\n",
    "#\n",
    "# **Tahapan Analisis:**\n",
    "# 1. Setup Environment Spark & Pustaka\n",
    "# 2. Pemuatan Data Gabungan (Trafik & Cuaca)\n",
    "# 3. Pemeriksaan dan Persiapan Data Cuaca\n",
    "# 4. Analisis Statistik Deskriptif Variabel Cuaca\n",
    "# 5. Analisis Korelasi Antara Variabel Cuaca dan Kecepatan Kendaraan\n",
    "# 6. Visualisasi Dampak Curah Hujan terhadap Kecepatan\n",
    "# 7. Visualisasi Dampak Suhu terhadap Kecepatan\n",
    "# 8. Visualisasi Dampak Jarak Pandang terhadap Kecepatan\n",
    "# 9. Analisis Komparatif: Kondisi Lalu Lintas pada Cuaca Ekstrem vs. Normal\n",
    "# 10. Kesimpulan Awal dan Implikasi untuk Pemodelan"
   ]
  },
  {
   "cell_type": "code",
   "execution_count": null,
   "id": "995b6dd8",
   "metadata": {},
   "outputs": [],
   "source": [
    "# 1. Setup Environment Spark & Pustaka\n",
    "from pyspark.sql import SparkSession\n",
    "from pyspark.sql.functions import col, avg, corr, when, round as spark_round\n",
    "import matplotlib.pyplot as plt\n",
    "import seaborn as sns\n",
    "import pandas as pd\n",
    "\n",
    "spark = SparkSession.builder \\\n",
    "    .appName(\"EDAWeatherImpactMedan\") \\\n",
    "    .config(\"spark.sql.repl.eagerEval.enabled\", True) \\\n",
    "    .getOrCreate()\n",
    "\n",
    "print(\"SparkSession berhasil dibuat!\")"
   ]
  },
  {
   "cell_type": "markdown",
   "id": "f52a732a",
   "metadata": {},
   "source": [
    "# ## 2. Pemuatan Data Gabungan (Trafik & Cuaca)\n",
    "# Memuat data dari HDFS Silver Layer yang sudah berisi informasi trafik dan cuaca yang terpadu.\n"
   ]
  },
  {
   "cell_type": "code",
   "execution_count": null,
   "id": "d3f94e48",
   "metadata": {},
   "outputs": [],
   "source": [
    "silver_data_path = \"/user/hive/warehouse/kemacetan_medan/silver/trafik_cuaca/data_gabungan.parquet\"\n",
    "try:\n",
    "    df_merged = spark.read.parquet(silver_data_path)\n",
    "    print(f\"Data gabungan berhasil dimuat. Jumlah baris: {df_merged.count()}\")\n",
    "    df_merged.printSchema()\n",
    "    # Tampilkan beberapa kolom relevan untuk cuaca dan kecepatan\n",
    "    df_merged.select(\"timestamp\", \"speed_kmh\", \"rainfall_mm\", \"temperature_c\", \"humidity_percent\", \"visibility_km\").show(5)\n",
    "except Exception as e:\n",
    "    print(f\"Error memuat data: {e}\")"
   ]
  },
  {
   "cell_type": "markdown",
   "id": "8a558df1",
   "metadata": {},
   "source": [
    "# ## 3. Pemeriksaan dan Persiapan Data Cuaca\n",
    "# Memastikan kolom-kolom cuaca memiliki tipe data yang benar dan menangani nilai-nilai yang mungkin tidak valid.\n"
   ]
  },
  {
   "cell_type": "code",
   "execution_count": null,
   "id": "74dfc8c1",
   "metadata": {},
   "outputs": [],
   "source": [
    "# Kolom cuaca utama yang akan dianalisis\n",
    "weather_cols = [\"rainfall_mm\", \"temperature_c\", \"humidity_percent\", \"visibility_km\"]\n",
    "\n",
    "# Cek nilai null (seharusnya sudah ditangani di tahap Silver, tapi baik untuk verifikasi)\n",
    "print(\"Jumlah nilai null pada kolom cuaca:\")\n",
    "df_merged.select([count(when(col(c).isNull(), c)).alias(c) for c in weather_cols]).show()\n",
    "\n",
    "# Pastikan tipe data sudah numerik (Float atau Double) - seharusnya sudah dari proses Silver\n",
    "for w_col in weather_cols:\n",
    "    if dict(df_merged.dtypes)[w_col] not in ['float', 'double']:\n",
    "        print(f\"Peringatan: Kolom {w_col} bukan tipe numerik.\")\n",
    "        # Lakukan casting jika perlu, contoh: df_merged = df_merged.withColumn(w_col, col(w_col).cast(\"float\"))\n",
    "\n",
    "# Filter nilai ekstrem yang tidak realistis jika ada (misalnya, suhu di bawah -20 atau di atas 50 untuk Medan)\n",
    "df_merged_filtered = df_merged.filter(\n",
    "    (col(\"temperature_c\") >= 15) & (col(\"temperature_c\") <= 40) & \\\n",
    "    (col(\"humidity_percent\") >= 10) & (col(\"humidity_percent\") <= 100) & \\\n",
    "    (col(\"visibility_km\") >= 0) & (col(\"rainfall_mm\") >=0)\n",
    ")\n",
    "print(f\"Jumlah baris setelah filter data cuaca: {df_merged_filtered.count()}\")\n"
   ]
  },
  {
   "cell_type": "markdown",
   "id": "70dc5403",
   "metadata": {},
   "source": [
    "# ## 4. Analisis Statistik Deskriptif Variabel Cuaca\n",
    "# Memahami sebaran dan tendensi sentral dari setiap variabel cuaca.\n"
   ]
  },
  {
   "cell_type": "code",
   "execution_count": null,
   "id": "cdb0413e",
   "metadata": {},
   "outputs": [],
   "source": [
    "print(\"Statistik Deskriptif untuk Variabel Cuaca:\")\n",
    "df_merged_filtered.select(weather_cols).describe().show()"
   ]
  },
  {
   "cell_type": "markdown",
   "id": "b10a2cad",
   "metadata": {},
   "source": [
    "# ## 5. Analisis Korelasi Antara Variabel Cuaca dan Kecepatan Kendaraan\n",
    "# Mengukur seberapa kuat hubungan linear antara setiap variabel cuaca dengan `speed_kmh`.\n"
   ]
  },
  {
   "cell_type": "code",
   "execution_count": null,
   "id": "c8a9c017",
   "metadata": {},
   "outputs": [],
   "source": [
    "print(\"Koefisien Korelasi Pearson antara Variabel Cuaca dan Kecepatan (speed_kmh):\")\n",
    "correlations = {}\n",
    "for w_col in weather_cols:\n",
    "    correlation_value = df_merged_filtered.stat.corr(\"speed_kmh\", w_col)\n",
    "    correlations[w_col] = correlation_value\n",
    "    print(f\"- Korelasi speed_kmh vs {w_col}: {correlation_value:.4f}\")\n",
    "\n",
    "# Visualisasi matriks korelasi (opsional, jika ingin melihat antar variabel cuaca juga)\n",
    "# numeric_cols_for_corr = [\"speed_kmh\"] + weather_cols\n",
    "# corr_matrix_pd = df_merged_filtered.select(numeric_cols_for_corr).toPandas().corr() # Hati-hati dengan toPandas() pada data besar\n",
    "# plt.figure(figsize=(8, 6))\n",
    "# sns.heatmap(corr_matrix_pd, annot=True, cmap='coolwarm', fmt=\".2f\")\n",
    "# plt.title('Matriks Korelasi antara Kecepatan dan Variabel Cuaca')\n",
    "# plt.show()"
   ]
  },
  {
   "cell_type": "markdown",
   "id": "652709ec",
   "metadata": {},
   "source": [
    "# **Interpretasi Korelasi:**\n",
    "# * Curah hujan (`rainfall_mm`) menunjukkan korelasi [positif/negatif, kuat/lemah] dengan kecepatan. Nilai [X] menyiratkan bahwa semakin [tinggi/rendah] curah hujan, kecepatan cenderung [menurun/meningkat].\n",
    "# * Suhu (`temperature_c`) menunjukkan korelasi [positif/negatif, kuat/lemah] ...\n",
    "# * Jarak pandang (`visibility_km`) menunjukkan korelasi [positif/negatif, kuat/lemah] ...\n",
    "# * (Komentari setiap korelasi)"
   ]
  },
  {
   "cell_type": "markdown",
   "id": "6ec23cbf",
   "metadata": {},
   "source": [
    "# ## 6. Visualisasi Dampak Curah Hujan (`rainfall_mm`) terhadap Kecepatan"
   ]
  },
  {
   "cell_type": "code",
   "execution_count": null,
   "id": "50c684b0",
   "metadata": {},
   "outputs": [],
   "source": [
    "# Untuk visualisasi yang lebih jelas, kita bisa mengkategorikan curah hujan\n",
    "df_viz = df_merged_filtered.withColumn(\"kategori_hujan\",\n",
    "    when(col(\"rainfall_mm\") == 0, \"Tidak Hujan (0mm)\")\n",
    "    .when((col(\"rainfall_mm\") > 0) & (col(\"rainfall_mm\") <= 5), \"Hujan Ringan (0-5mm)\")\n",
    "    .when((col(\"rainfall_mm\") > 5) & (col(\"rainfall_mm\") <= 15), \"Hujan Sedang (5-15mm)\")\n",
    "    .otherwise(\"Hujan Lebat (>15mm)\")\n",
    ")\n",
    "\n",
    "avg_speed_by_rainfall_cat = df_viz.groupBy(\"kategori_hujan\") \\\n",
    "    .agg(avg(\"speed_kmh\").alias(\"avg_speed\"), count(\"*\").alias(\"jumlah_observasi\")) \\\n",
    "    .orderBy(\"avg_speed\") \\\n",
    "    .toPandas()\n",
    "\n",
    "plt.figure(figsize=(10, 6))\n",
    "sns.barplot(data=avg_speed_by_rainfall_cat, x=\"kategori_hujan\", y=\"avg_speed\", palette=\"Blues_r\",\n",
    "            order=[\"Tidak Hujan (0mm)\", \"Hujan Ringan (0-5mm)\", \"Hujan Sedang (5-15mm)\", \"Hujan Lebat (>15mm)\"])\n",
    "plt.title('Dampak Intensitas Curah Hujan terhadap Kecepatan Rata-rata')\n",
    "plt.xlabel('Kategori Curah Hujan')\n",
    "plt.ylabel('Kecepatan Rata-rata (km/h)')\n",
    "plt.xticks(rotation=15)\n",
    "plt.grid(True, axis='y', linestyle='--', alpha=0.7)\n",
    "plt.show()\n",
    "\n",
    "print(avg_speed_by_rainfall_cat)"
   ]
  },
  {
   "cell_type": "markdown",
   "id": "4dd34987",
   "metadata": {},
   "source": [
    "# **Interpretasi Dampak Curah Hujan:**\n",
    "# * Terlihat jelas bahwa kecepatan rata-rata kendaraan menurun seiring dengan meningkatnya intensitas curah hujan.\n",
    "# * Penurunan paling signifikan terjadi pada kategori [Hujan Lebat/Sedang].\n"
   ]
  },
  {
   "cell_type": "markdown",
   "id": "707791d5",
   "metadata": {},
   "source": [
    "# ## 7. Visualisasi Dampak Suhu (`temperature_c`) terhadap Kecepatan\n",
    "# (Lakukan analisis serupa seperti pada curah hujan: scatter plot atau binning suhu dan lihat rata-rata kecepatan)\n"
   ]
  },
  {
   "cell_type": "code",
   "execution_count": null,
   "id": "107b3ae2",
   "metadata": {},
   "outputs": [],
   "source": [
    "# Contoh dengan binning suhu\n",
    "df_viz = df_viz.withColumn(\"kategori_suhu\",\n",
    "    when(col(\"temperature_c\") < 25, \"Sejuk (<25°C)\")\n",
    "    .when((col(\"temperature_c\") >= 25) & (col(\"temperature_c\") < 30), \"Hangat (25-30°C)\")\n",
    "    .otherwise(\"Panas (>=30°C)\")\n",
    ")\n",
    "\n",
    "avg_speed_by_temp_cat = df_viz.groupBy(\"kategori_suhu\") \\\n",
    "    .agg(avg(\"speed_kmh\").alias(\"avg_speed\")) \\\n",
    "    .orderBy(\"avg_speed\") \\\n",
    "    .toPandas()\n",
    "\n",
    "plt.figure(figsize=(10, 6))\n",
    "sns.barplot(data=avg_speed_by_temp_cat, x=\"kategori_suhu\", y=\"avg_speed\", palette=\"YlOrRd\")\n",
    "plt.title('Dampak Suhu terhadap Kecepatan Rata-rata')\n",
    "# ... (label dan styling lainnya)\n",
    "plt.show()"
   ]
  },
  {
   "cell_type": "markdown",
   "id": "c9a39d27",
   "metadata": {},
   "source": [
    "# **Interpretasi Dampak Suhu:**\n",
    "# * [Jelaskan pola yang terlihat, misalnya apakah suhu sangat panas atau sangat sejuk memengaruhi kecepatan]\n"
   ]
  },
  {
   "cell_type": "markdown",
   "id": "8e993a7d",
   "metadata": {},
   "source": [
    "# ## 8. Visualisasi Dampak Jarak Pandang (`visibility_km`) terhadap Kecepatan\n",
    "# (Lakukan analisis serupa: scatter plot atau binning jarak pandang)\n"
   ]
  },
  {
   "cell_type": "code",
   "execution_count": null,
   "id": "280e2d6c",
   "metadata": {},
   "outputs": [],
   "source": [
    "# Scatter plot speed_kmh vs visibility_km (ambil sampel jika data besar)\n",
    "visibility_speed_sample_pd = df_merged_filtered.select(\"visibility_km\", \"speed_kmh\").sample(False, 0.05).toPandas()\n",
    "\n",
    "plt.figure(figsize=(10,6))\n",
    "sns.scatterplot(data=visibility_speed_sample_pd, x=\"visibility_km\", y=\"speed_kmh\", alpha=0.5)\n",
    "plt.title(\"Hubungan Jarak Pandang dengan Kecepatan Kendaraan\")\n",
    "plt.xlabel(\"Jarak Pandang (km)\")\n",
    "plt.ylabel(\"Kecepatan (km/h)\")\n",
    "plt.grid(True, linestyle='--', alpha=0.7)\n",
    "plt.show()"
   ]
  },
  {
   "cell_type": "markdown",
   "id": "ed05d3b1",
   "metadata": {},
   "source": [
    "# **Interpretasi Dampak Jarak Pandang:**\n",
    "# * [Jelaskan pola yang terlihat, misalnya apakah jarak pandang rendah secara signifikan mengurangi kecepatan]\n"
   ]
  },
  {
   "cell_type": "markdown",
   "id": "ba29cbd7",
   "metadata": {},
   "source": [
    "# ## 9. Analisis Komparatif: Kondisi Lalu Lintas pada Cuaca Ekstrem vs. Normal\n",
    "# (Definisikan apa itu \"cuaca ekstrem\" misal hujan lebat & jarak pandang rendah, lalu bandingkan distribusi kecepatan atau kecepatan rata-rata dengan kondisi \"normal\")\n"
   ]
  },
  {
   "cell_type": "code",
   "execution_count": null,
   "id": "594a481a",
   "metadata": {},
   "outputs": [],
   "source": [
    "# Contoh definisi cuaca ekstrem\n",
    "df_viz = df_viz.withColumn(\"kondisi_cuaca_ekstrem\",\n",
    "    when((col(\"rainfall_mm\") > 10) & (col(\"visibility_km\") < 2), \"Ekstrem (Hujan Lebat & Vis Rendah)\")\n",
    "    .when((col(\"rainfall_mm\") == 0) & (col(\"visibility_km\") > 8), \"Normal (Cerah & Vis Baik)\")\n",
    "    .otherwise(\"Lainnya\")\n",
    ")\n",
    "\n",
    "# Ambil hanya kategori Ekstrem dan Normal untuk perbandingan yang jelas\n",
    "df_comparison = df_viz.filter(col(\"kondisi_cuaca_ekstrem\").isin([\"Ekstrem (Hujan Lebat & Vis Rendah)\", \"Normal (Cerah & Vis Baik)\"]))\n",
    "\n",
    "plt.figure(figsize=(10,6))\n",
    "sns.boxplot(data=df_comparison.toPandas(), x=\"kondisi_cuaca_ekstrem\", y=\"speed_kmh\", palette={\"Normal (Cerah & Vis Baik)\":\"lightgreen\", \"Ekstrem (Hujan Lebat & Vis Rendah)\":\"salmon\"})\n",
    "plt.title(\"Perbandingan Distribusi Kecepatan: Cuaca Ekstrem vs. Normal\")\n",
    "# ... (label dan styling lainnya)\n",
    "plt.show()"
   ]
  },
  {
   "cell_type": "markdown",
   "id": "71d2d505",
   "metadata": {},
   "source": [
    "# **Interpretasi Perbandingan Cuaca Ekstrem vs. Normal:**\n",
    "# * Boxplot dengan jelas menunjukkan bahwa pada kondisi cuaca ekstrem, median kecepatan [lebih rendah/sama/lebih tinggi] dan sebaran kecepatan menjadi [lebih sempit/lebar] dibandingkan kondisi normal.\n",
    "# * Ini menguatkan dugaan bahwa cuaca ekstrem memiliki dampak signifikan terhadap kelancaran lalu lintas.\n"
   ]
  },
  {
   "cell_type": "markdown",
   "id": "754604ae",
   "metadata": {},
   "source": [
    "# ## 10. Kesimpulan Awal dan Implikasi untuk Pemodelan\n",
    "# Berdasarkan analisis dampak cuaca:\n",
    "# 1.  **Curah Hujan Signifikan**: Curah hujan, terutama intensitas sedang hingga lebat, secara konsisten menunjukkan dampak negatif terhadap kecepatan rata-rata kendaraan. Ini adalah kandidat fitur kuat.\n",
    "# 2.  **Jarak Pandang Berpengaruh**: Penurunan jarak pandang juga berkorelasi dengan penurunan kecepatan, meskipun mungkin efeknya lebih terlihat pada kondisi ekstrem.\n",
    "# 3.  **Suhu Kurang Konsisten (Contoh)**: Dampak suhu mungkin kurang langsung atau lebih kompleks, berinteraksi dengan faktor lain. (Sesuaikan dengan temuan Anda).\n",
    "# 4.  **Implikasi untuk Fitur**: Variabel `rainfall_mm`, `visibility_km`, dan mungkin `temperature_c` (atau kategori darinya) perlu dipertimbangkan secara serius sebagai fitur dalam model prediksi kemacetan. Interaksi antara cuaca dan waktu (jam) juga bisa dieksplorasi.\n",
    "# 5.  **Pentingnya Data Cuaca Akurat**: Kualitas prediksi kemacetan akan sangat bergantung pada ketersediaan dan akurasi data cuaca real-time atau prediksi cuaca jangka pendek.\n"
   ]
  },
  {
   "cell_type": "code",
   "execution_count": null,
   "id": "40b4795f",
   "metadata": {},
   "outputs": [],
   "source": [
    "spark.stop()"
   ]
  }
 ],
 "metadata": {
  "language_info": {
   "name": "python"
  }
 },
 "nbformat": 4,
 "nbformat_minor": 5
}
