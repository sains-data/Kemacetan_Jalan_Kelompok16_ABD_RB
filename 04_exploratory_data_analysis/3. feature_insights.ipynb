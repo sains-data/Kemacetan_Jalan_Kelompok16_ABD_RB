{
 "cells": [
  {
   "cell_type": "markdown",
   "id": "8d582280",
   "metadata": {},
   "source": [
    "# # 💡 Analisis Data Eksploratif: Deteksi Sinyal & Wawasan Fitur untuk Model Prediktif\n",
    "#\n",
    "# **Tujuan Notebook:**\n",
    "# Notebook ini bertujuan untuk melakukan investigasi mendalam terhadap variabel-variabel (fitur) potensial yang akan digunakan dalam model prediksi kemacetan. Fokusnya adalah untuk memahami distribusi masing-masing fitur, hubungan antar fitur (multikolinearitas), dan yang terpenting, hubungan antara setiap fitur potensial dengan variabel target (misalnya, `avg_speed_kmh` atau kategori tingkat kemacetan).\n",
    "#\n",
    "# **Dataset yang Digunakan:** Data dari Gold Layer HDFS (data agregat yang sudah siap untuk rekayasa fitur atau pemodelan awal).\n",
    "#\n",
    "# **Tahapan Analisis:**\n",
    "# 1. Setup Environment Spark & Pustaka\n",
    "# 2. Pemuatan Data Agregat dari Gold Layer\n",
    "# 3. Pemeriksaan Kualitas Data Fitur Potensial\n",
    "# 4. Analisis Univariat Fitur Numerik (Distribusi, Outlier)\n",
    "# 5. Analisis Univariat Fitur Kategorikal (Frekuensi Kategori)\n",
    "# 6. Analisis Bivariat: Hubungan Fitur Numerik dengan Target (`avg_speed_kmh`)\n",
    "# 7. Analisis Bivariat: Hubungan Fitur Kategorikal dengan Target (`avg_speed_kmh`)\n",
    "# 8. Analisis Korelasi Antar Fitur Numerik (Deteksi Multikolinearitas)\n",
    "# 9. (Opsional) Uji Signifikansi Fitur Sederhana (misalnya, ANOVA untuk kategorikal, korelasi untuk numerik)\n",
    "# 10. Kesimpulan dan Rekomendasi Fitur untuk Tahap Rekayasa Fitur & Pemodelan\n"
   ]
  },
  {
   "cell_type": "code",
   "execution_count": null,
   "id": "4008e027",
   "metadata": {},
   "outputs": [],
   "source": [
    "# %% [code]\n",
    "# 1. Setup Environment Spark & Pustaka\n",
    "from pyspark.sql import SparkSession\n",
    "from pyspark.sql.functions import col, avg, corr, count, when, desc, isnan\n",
    "from pyspark.ml.stat import Correlation # Untuk matriks korelasi Spark\n",
    "from pyspark.ml.feature import VectorAssembler # Jika ingin menghitung korelasi pada fitur vektor\n",
    "import matplotlib.pyplot as plt\n",
    "import seaborn as sns\n",
    "import pandas as pd\n",
    "\n",
    "spark = SparkSession.builder \\\n",
    "    .appName(\"EDAFeatureInsightsMedan\") \\\n",
    "    .config(\"spark.sql.repl.eagerEval.enabled\", True) \\\n",
    "    .getOrCreate()\n",
    "\n",
    "print(\"SparkSession berhasil dibuat!\")"
   ]
  },
  {
   "cell_type": "markdown",
   "id": "cfc5ef72",
   "metadata": {},
   "source": [
    "# ## 2. Pemuatan Data Agregat dari Gold Layer\n",
    "# Data ini sudah diagregasi per ruas jalan, jam, hari, dll., dan mencakup metrik trafik serta cuaca.\n"
   ]
  },
  {
   "cell_type": "code",
   "execution_count": null,
   "id": "a4d18907",
   "metadata": {},
   "outputs": [],
   "source": [
    "gold_data_path = \"/user/hive/warehouse/kemacetan_medan/gold/trafik_cuaca_agg/agregat_kemacetan.orc\"\n",
    "try:\n",
    "    df_gold = spark.read.orc(gold_data_path)\n",
    "    print(f\"Data Gold berhasil dimuat. Jumlah baris: {df_gold.count()}\")\n",
    "    df_gold.printSchema()\n",
    "    # Tampilkan beberapa kolom yang akan menjadi fitur dan target\n",
    "    # Contoh kolom dari silver_to_gold.py: \"road_name\", \"jam\", \"hari_minggu\", \"avg_speed_kmh\", \"vehicle_count\", \"avg_rainfall_mm\", \"avg_temperature_c\"\n",
    "    df_gold.show(5, truncate=False)\n",
    "except Exception as e:\n",
    "    print(f\"Error memuat data Gold: {e}\")\n",
    "\n",
    "# Definisikan variabel target\n",
    "target_col = \"avg_speed_kmh\"\n",
    "\n",
    "# Definisikan fitur numerik dan kategorikal potensial (berdasarkan output gold_agg)\n",
    "potential_numerical_features = [\"jam\", \"hari_minggu\", \"vehicle_count\", \"avg_rainfall_mm\", \"avg_temperature_c\"] # Tambahkan latitude, longitude jika per segmen\n",
    "potential_categorical_features = [\"road_name\"]\n"
   ]
  },
  {
   "cell_type": "markdown",
   "id": "10c5cca8",
   "metadata": {},
   "source": [
    "# ## 3. Pemeriksaan Kualitas Data Fitur Potensial\n",
    "# Memastikan tidak ada nilai null yang berlebihan atau tipe data yang salah pada fitur yang akan dianalisis.\n"
   ]
  },
  {
   "cell_type": "code",
   "execution_count": null,
   "id": "62765aec",
   "metadata": {},
   "outputs": [],
   "source": [
    "# Cek null untuk target dan fitur potensial\n",
    "cols_to_check_null = [target_col] + potential_numerical_features + potential_categorical_features\n",
    "print(\"Jumlah nilai null per kolom fitur potensial dan target:\")\n",
    "df_gold.select([count(when(col(c).isNull() | isnan(col(c)), c)).alias(c) for c in cols_to_check_null]).show()\n",
    "\n",
    "# (Opsional) Lakukan imputasi sederhana jika ada null sedikit, atau drop baris jika banyak dan tidak bisa diimputasi dengan baik\n",
    "# Untuk EDA, kita bisa filter baris dengan null pada target atau fitur kunci agar analisis tidak bias\n",
    "df_gold_cleaned = df_gold.na.drop(subset=[target_col, \"road_name\"]) # Contoh\n",
    "print(f\"Jumlah baris setelah drop null pada target/fitur kunci: {df_gold_cleaned.count()}\")\n"
   ]
  },
  {
   "cell_type": "markdown",
   "id": "ef89fa78",
   "metadata": {},
   "source": [
    "# ## 4. Analisis Univariat Fitur Numerik\n",
    "# Memahami distribusi masing-masing fitur numerik.\n"
   ]
  },
  {
   "cell_type": "code",
   "execution_count": null,
   "id": "aff8a0db",
   "metadata": {},
   "outputs": [],
   "source": [
    "print(\"Statistik Deskriptif Fitur Numerik Potensial:\")\n",
    "df_gold_cleaned.select(potential_numerical_features).describe().show()\n",
    "\n",
    "# Visualisasi distribusi (contoh untuk beberapa fitur)\n",
    "# Ambil sampel jika data besar untuk plotting\n",
    "numerical_sample_pd = df_gold_cleaned.select(potential_numerical_features).sample(False, 0.2).toPandas()\n",
    "\n",
    "for num_feat in potential_numerical_features:\n",
    "    if num_feat in numerical_sample_pd.columns:\n",
    "        plt.figure(figsize=(8, 5))\n",
    "        sns.histplot(numerical_sample_pd[num_feat], kde=True, bins=30)\n",
    "        plt.title(f'Distribusi Fitur: {num_feat}')\n",
    "        plt.xlabel(num_feat)\n",
    "        plt.ylabel('Frekuensi')\n",
    "        plt.grid(True, linestyle='--', alpha=0.7)\n",
    "        plt.show()\n",
    "        \n",
    "        plt.figure(figsize=(8, 3))\n",
    "        sns.boxplot(x=numerical_sample_pd[num_feat])\n",
    "        plt.title(f'Boxplot Fitur: {num_feat} (Deteksi Outlier)')\n",
    "        plt.show()"
   ]
  },
  {
   "cell_type": "markdown",
   "id": "9f48b049",
   "metadata": {},
   "source": [
    "# **Interpretasi Distribusi Fitur Numerik:**\n",
    "# * Fitur `jam` menunjukkan distribusi [seragam/bimodal/dll.], mengindikasikan [interpretasi].\n",
    "# * Fitur `vehicle_count` cenderung [skewed ke kanan/kiri/simetris], dengan beberapa outlier [tinggi/rendah].\n",
    "# * (Komentari setiap fitur numerik penting)"
   ]
  },
  {
   "cell_type": "markdown",
   "id": "b94fb7f5",
   "metadata": {},
   "source": [
    "# ## 5. Analisis Univariat Fitur Kategorikal\n",
    "# Memahami frekuensi kategori pada fitur kategorikal.\n"
   ]
  },
  {
   "cell_type": "code",
   "execution_count": null,
   "id": "e67c38b9",
   "metadata": {},
   "outputs": [],
   "source": [
    "for cat_feat in potential_categorical_features:\n",
    "    print(f\"\\nFrekuensi Kategori untuk Fitur: {cat_feat}\")\n",
    "    df_gold_cleaned.groupBy(cat_feat).count().orderBy(desc(\"count\")).show(truncate=False)\n",
    "    \n",
    "    # Visualisasi (misalnya, top N kategori)\n",
    "    top_n_categories = 15\n",
    "    category_counts_pd = df_gold_cleaned.groupBy(cat_feat) \\\n",
    "        .count() \\\n",
    "        .orderBy(desc(\"count\")) \\\n",
    "        .limit(top_n_categories) \\\n",
    "        .toPandas()\n",
    "\n",
    "    if not category_counts_pd.empty:\n",
    "        plt.figure(figsize=(12, 7))\n",
    "        sns.barplot(data=category_counts_pd, y=cat_feat, x=\"count\", palette=\"Spectral\")\n",
    "        plt.title(f'Top {top_n_categories} Kategori Teratas untuk Fitur: {cat_feat}')\n",
    "        plt.xlabel('Jumlah Observasi')\n",
    "        plt.ylabel(cat_feat)\n",
    "        plt.tight_layout()\n",
    "        plt.show()\n"
   ]
  },
  {
   "cell_type": "markdown",
   "id": "e17f9f76",
   "metadata": {},
   "source": [
    "# **Interpretasi Distribusi Fitur Kategorikal:**\n",
    "# * Fitur `road_name` memiliki [jumlah] kategori unik. Beberapa ruas jalan muncul jauh lebih sering daripada yang lain, menunjukkan variasi kepadatan data per lokasi.\n",
    "# * Adanya kategori \"Unknown\" atau yang sangat jarang mungkin memerlukan penanganan khusus (misalnya, penggabungan atau penghapusan).\n"
   ]
  },
  {
   "cell_type": "markdown",
   "id": "d14f9b48",
   "metadata": {},
   "source": [
    "# ## 6. Analisis Bivariat: Hubungan Fitur Numerik dengan Target (`avg_speed_kmh`)\n",
    "# Melihat bagaimana nilai target berubah seiring perubahan fitur numerik.\n"
   ]
  },
  {
   "cell_type": "code",
   "execution_count": null,
   "id": "86f14bb1",
   "metadata": {},
   "outputs": [],
   "source": [
    "# Scatter plot untuk setiap fitur numerik vs target (ambil sampel)\n",
    "bivariate_sample_pd = df_gold_cleaned.select([target_col] + potential_numerical_features).sample(False, 0.1).toPandas()\n",
    "\n",
    "for num_feat in potential_numerical_features:\n",
    "    if num_feat in bivariate_sample_pd.columns:\n",
    "        plt.figure(figsize=(8, 6))\n",
    "        sns.scatterplot(data=bivariate_sample_pd, x=num_feat, y=target_col, alpha=0.5)\n",
    "        # Opsional: tambahkan garis regresi\n",
    "        # sns.regplot(data=bivariate_sample_pd, x=num_feat, y=target_col, scatter_kws={'alpha':0.3}, line_kws={'color':'red'})\n",
    "        plt.title(f'Hubungan Antara {num_feat} dan {target_col}')\n",
    "        plt.xlabel(num_feat)\n",
    "        plt.ylabel(target_col)\n",
    "        plt.grid(True, linestyle='--', alpha=0.7)\n",
    "        plt.show()"
   ]
  },
  {
   "cell_type": "markdown",
   "id": "d3df323a",
   "metadata": {},
   "source": [
    "# **Interpretasi Hubungan Fitur Numerik dengan Target:**\n",
    "# * `jam` vs `avg_speed_kmh`: Menunjukkan pola non-linear yang jelas, dengan kecepatan menurun pada jam sibuk (seperti yang terlihat di EDA trafik). Ini menguatkan `jam` sebagai fitur penting.\n",
    "# * `vehicle_count` vs `avg_speed_kmh`: Cenderung menunjukkan korelasi negatif; semakin banyak kendaraan, kecepatan rata-rata menurun.\n",
    "# * `avg_rainfall_mm` vs `avg_speed_kmh`: Tampak ada tren penurunan kecepatan saat curah hujan meningkat.\n",
    "# * (Komentari setiap plot)\n"
   ]
  },
  {
   "cell_type": "markdown",
   "id": "3a7e2994",
   "metadata": {},
   "source": [
    "# ## 7. Analisis Bivariat: Hubungan Fitur Kategorikal dengan Target (`avg_speed_kmh`)\n",
    "# Melihat bagaimana nilai target bervariasi antar kategori fitur.\n"
   ]
  },
  {
   "cell_type": "code",
   "execution_count": null,
   "id": "32ea619b",
   "metadata": {},
   "outputs": [],
   "source": [
    "for cat_feat in potential_categorical_features:\n",
    "    # Ambil top N kategori berdasarkan jumlah observasi untuk visualisasi yang lebih bersih\n",
    "    top_n_plot = 15\n",
    "    top_categories_df = df_gold_cleaned.groupBy(cat_feat).count().orderBy(desc(\"count\")).limit(top_n_plot)\n",
    "    top_categories_list = [row[cat_feat] for row in top_categories_df.collect()]\n",
    "\n",
    "    df_cat_target_pd = df_gold_cleaned.filter(col(cat_feat).isin(top_categories_list)) \\\n",
    "        .select(cat_feat, target_col) \\\n",
    "        .toPandas() # Hati-hati jika hasilnya masih besar\n",
    "\n",
    "    if not df_cat_target_pd.empty:\n",
    "        plt.figure(figsize=(14, 8))\n",
    "        sns.boxplot(data=df_cat_target_pd, y=cat_feat, x=target_col, palette=\"Paired\", order=df_cat_target_pd.groupby(cat_feat)[target_col].median().sort_values().index)\n",
    "        plt.title(f'Distribusi {target_col} per Kategori {cat_feat} (Top {top_n_plot})')\n",
    "        plt.xlabel(target_col)\n",
    "        plt.ylabel(cat_feat)\n",
    "        plt.tight_layout()\n",
    "        plt.show()"
   ]
  },
  {
   "cell_type": "markdown",
   "id": "1b80e2c3",
   "metadata": {},
   "source": [
    "# **Interpretasi Hubungan Fitur Kategorikal dengan Target:**\n",
    "# * `road_name` vs `avg_speed_kmh`: Boxplot menunjukkan variasi yang signifikan dalam kecepatan rata-rata antar ruas jalan. Beberapa ruas jalan secara konsisten memiliki kecepatan lebih rendah (potensi macet). Ini menegaskan `road_name` sebagai fitur prediktif yang kuat.\n"
   ]
  },
  {
   "cell_type": "markdown",
   "id": "40e6547b",
   "metadata": {},
   "source": [
    "# ## 8. Analisis Korelasi Antar Fitur Numerik (Deteksi Multikolinearitas)\n",
    "# Memeriksa apakah ada fitur numerik yang sangat berkorelasi satu sama lain, yang bisa menjadi masalah untuk beberapa model.\n"
   ]
  },
  {
   "cell_type": "code",
   "execution_count": null,
   "id": "54f6d999",
   "metadata": {},
   "outputs": [],
   "source": [
    "# Menggunakan metode korelasi dari Spark DataFrame (lebih efisien untuk data besar)\n",
    "# Buat vektor fitur dari kolom numerik\n",
    "assembler_corr = VectorAssembler(inputCols=potential_numerical_features, outputCol=\"corr_features_vec\", handleInvalid=\"skip\")\n",
    "df_corr_vec = assembler_corr.transform(df_gold_cleaned).select(\"corr_features_vec\")\n",
    "\n",
    "# Hitung matriks korelasi Pearson\n",
    "try:\n",
    "    corr_matrix_spark = Correlation.corr(df_corr_vec, \"corr_features_vec\", \"pearson\").head()\n",
    "    if corr_matrix_spark:\n",
    "        corr_matrix_pd_from_spark = pd.DataFrame(corr_matrix_spark[0].toArray(), columns=potential_numerical_features, index=potential_numerical_features)\n",
    "        \n",
    "        plt.figure(figsize=(10, 8))\n",
    "        sns.heatmap(corr_matrix_pd_from_spark, annot=True, cmap='coolwarm', fmt=\".2f\", vmin=-1, vmax=1)\n",
    "        plt.title('Matriks Korelasi Antar Fitur Numerik Potensial')\n",
    "        plt.show()\n",
    "    else:\n",
    "        print(\"Tidak dapat menghitung matriks korelasi (mungkin karena data terlalu sedikit setelah filter).\")\n",
    "except Exception as e:\n",
    "    print(f\"Error menghitung matriks korelasi Spark: {e}\")\n",
    "    print(\"Alternatif: Menggunakan Pandas pada sampel data (kurang akurat untuk data besar).\")\n",
    "    # Fallback ke Pandas jika ada error atau data sampel\n",
    "    # corr_matrix_pd = numerical_sample_pd.corr()\n",
    "    # plt.figure(figsize=(10, 8))\n",
    "    # sns.heatmap(corr_matrix_pd, annot=True, cmap='coolwarm', fmt=\".2f\")\n",
    "    # plt.title('Matriks Korelasi Antar Fitur Numerik Potensial (Sampel Pandas)')\n",
    "    # plt.show()"
   ]
  },
  {
   "cell_type": "markdown",
   "id": "62246b1a",
   "metadata": {},
   "source": [
    "# **Interpretasi Matriks Korelasi Fitur:**\n",
    "# * Perhatikan pasangan fitur dengan koefisien korelasi tinggi (misalnya, > 0.7 atau < -0.7).\n",
    "# * Jika `avg_rainfall_mm` dan `humidity_percent` sangat berkorelasi, mungkin salah satunya bisa dipertimbangkan untuk dihilangkan untuk menghindari multikolinearitas.\n",
    "# * (Komentari temuan korelasi penting)\n"
   ]
  },
  {
   "cell_type": "markdown",
   "id": "a46fbaea",
   "metadata": {},
   "source": [
    "# ## 9. (Opsional) Uji Signifikansi Fitur Sederhana\n",
    "# (Bagian ini bisa lebih kompleks, tergantung kedalaman yang diinginkan. Untuk EDA, korelasi dan visualisasi seringkali cukup.)\n",
    "# - **Numerik vs Numerik (Target)**: Koefisien korelasi Pearson sudah dihitung.\n",
    "# - **Kategorikal vs Numerik (Target)**: ANOVA (Analysis of Variance) dapat digunakan untuk menguji apakah rata-rata target berbeda signifikan antar kategori. Ini memerlukan transformasi data atau penggunaan pustaka statistik.\n",
    "#   ```python\n",
    "#   # Contoh konseptual (memerlukan scipy atau statsmodels, mungkin lebih baik di Pandas)\n",
    "#   # from scipy.stats import f_oneway\n",
    "#   # grouped_data = [df_cat_target_pd[df_cat_target_pd[cat_feat] == category][target_col] for category in df_cat_target_pd[cat_feat].unique()]\n",
    "#   # f_stat, p_value = f_oneway(*grouped_data)\n",
    "#   # print(f\"ANOVA P-value untuk {cat_feat} vs {target_col}: {p_value}\")\n",
    "#   ```"
   ]
  },
  {
   "cell_type": "markdown",
   "id": "ad291def",
   "metadata": {},
   "source": [
    "# ## 10. Kesimpulan dan Rekomendasi Fitur untuk Tahap Rekayasa Fitur & Pemodelan\n",
    "# Berdasarkan eksplorasi mendalam terhadap fitur-fitur potensial:\n",
    "# 1.  **Fitur Numerik yang Menjanjikan**:\n",
    "#     * `jam` dan `hari_minggu`: Menunjukkan pola temporal yang kuat terhadap kecepatan.\n",
    "#     * `vehicle_count`: Berkorelasi negatif dengan kecepatan, sangat intuitif.\n",
    "#     * `avg_rainfall_mm` dan `visibility_km` (dari EDA cuaca): Menunjukkan dampak pada kecepatan.\n",
    "#     * `avg_temperature_c`: Dampaknya mungkin perlu dipertimbangkan hati-hati atau dikombinasikan.\n",
    "# 2.  **Fitur Kategorikal yang Menjanjikan**:\n",
    "#     * `road_name`: Sangat penting, menunjukkan variasi kecepatan yang signifikan antar lokasi. Perlu di-encode dengan benar (misalnya, `StringIndexer` atau target encoding jika kategorinya banyak).\n",
    "# 3.  **Potensi Multikolinearitas**: [Sebutkan jika ada fitur yang sangat berkorelasi dan perlu perhatian, misal: \"Perlu diperhatikan korelasi antara X dan Y\"].\n",
    "# 4.  **Rekomendasi untuk Rekayasa Fitur**:\n",
    "#     * Fokus pada encoding `road_name` yang efektif.\n",
    "#     * Pertimbangkan pembuatan fitur interaksi (misalnya, `jam` * `road_name_index`, atau `jam` * `avg_rainfall_mm`).\n",
    "#     * Normalisasi/scaling fitur numerik mungkin diperlukan tergantung algoritma model.\n",
    "#     * Pembuatan fitur lag (kecepatan pada jam sebelumnya) sangat direkomendasikan.\n",
    "#\n",
    "# Insight dari EDA ini akan menjadi **panduan utama** dalam skrip `prepare_features_for_modeling.py` untuk memastikan bahwa fitur yang dimasukkan ke dalam model adalah yang paling informatif dan relevan, sehingga memaksimalkan potensi akurasi prediksi kemacetan.\n"
   ]
  },
  {
   "cell_type": "code",
   "execution_count": null,
   "id": "9e677d08",
   "metadata": {},
   "outputs": [],
   "source": [
    "spark.stop()"
   ]
  }
 ],
 "metadata": {
  "language_info": {
   "name": "python"
  }
 },
 "nbformat": 4,
 "nbformat_minor": 5
}
