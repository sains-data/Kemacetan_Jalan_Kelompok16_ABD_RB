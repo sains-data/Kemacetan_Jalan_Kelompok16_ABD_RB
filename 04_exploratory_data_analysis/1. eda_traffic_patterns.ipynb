{
 "cells": [
  {
   "cell_type": "markdown",
   "id": "ab3d23c7",
   "metadata": {},
   "source": [
    "# 🚦 Analisis Data Eksploratif: Pola Lalu Lintas Kota Medan\n",
    "\n",
    " **Tujuan Notebook:**\n",
    "# Notebook ini bertujuan untuk melakukan analisis eksploratif mendalam terhadap data trafik Kota Medan. Fokus utama adalah untuk memahami distribusi kecepatan kendaraan, mengidentifikasi pola temporal (harian, mingguan) dan spasial (ruas jalan), serta menemukan insight awal terkait potensi kemacetan.\n",
    "#\n",
    "# **Dataset yang Digunakan:** Data dari Silver Layer HDFS (gabungan trafik dan cuaca) atau Gold Layer (data agregat awal).\n",
    "#\n",
    "# **Tahapan Analisis:**\n",
    "# 1. Setup Environment Spark & Pustaka\n",
    "# 2. Pemuatan Data Trafik\n",
    "# 3. Pembersihan Data Awal & Pemeriksaan Kualitas (spesifik untuk EDA)\n",
    "# 4. Analisis Statistik Deskriptif Umum\n",
    "# 5. Analisis Distribusi Kecepatan Kendaraan\n",
    "# 6. Analisis Pola Temporal:\n",
    "#    - Kecepatan rata-rata per jam dalam sehari\n",
    "#    - Volume kendaraan per jam dalam sehari\n",
    "#    - Perbandingan pola hari kerja vs. akhir pekan\n",
    "# 7. Analisis Pola Spasial (Jika data memungkinkan):\n",
    "#    - Kecepatan rata-rata per ruas jalan (`road_name`)\n",
    "#    - Identifikasi ruas jalan dengan kecepatan rata-rata terendah (potensi macet)\n",
    "# 8. Kesimpulan Awal dan Hipotesis\n"
   ]
  },
  {
   "cell_type": "code",
   "execution_count": null,
   "id": "eab9e1f2",
   "metadata": {},
   "outputs": [],
   "source": [
    "# 1. Setup Environment Spark & Pustaka\n",
    "from pyspark.sql import SparkSession\n",
    "from pyspark.sql.functions import col, avg, count, hour, dayofweek, when, to_timestamp, date_format\n",
    "import matplotlib.pyplot as plt\n",
    "import seaborn as sns\n",
    "import pandas as pd\n",
    "\n",
    "# Inisialisasi SparkSession (sesuaikan dengan konfigurasi cluster Anda jika perlu)\n",
    "spark = SparkSession.builder \\\n",
    "    .appName(\"EDATrafficPatternsMedan\") \\\n",
    "    .config(\"spark.sql.repl.eagerEval.enabled\", True) \\ # Untuk output DataFrame Pandas-like di notebook\n",
    "    .getOrCreate()\n",
    "\n",
    "print(\"SparkSession berhasil dibuat!\")"
   ]
  },
  {
   "cell_type": "markdown",
   "id": "2166a4d8",
   "metadata": {},
   "source": [
    "# ## 2. Pemuatan Data Trafik\n",
    "# Memuat data dari HDFS Silver Layer (gabungan trafik dan cuaca) atau Gold Layer jika sudah ada agregasi awal.\n"
   ]
  },
  {
   "cell_type": "code",
   "execution_count": null,
   "id": "c31bf994",
   "metadata": {},
   "outputs": [],
   "source": [
    "# Path ke data di HDFS (contoh dari Silver Layer)\n",
    "silver_data_path = \"/user/hive/warehouse/kemacetan_medan/silver/trafik_cuaca/data_gabungan.parquet\"\n",
    "# Atau dari Gold Layer\n",
    "# gold_data_path = \"/user/hive/warehouse/kemacetan_medan/gold/trafik_cuaca_agg/agregat_kemacetan.orc\"\n",
    "\n",
    "try:\n",
    "    df_traffic = spark.read.parquet(silver_data_path)\n",
    "    # Jika dari Gold Layer (ORC)\n",
    "    # df_traffic = spark.read.orc(gold_data_path)\n",
    "    print(f\"Data berhasil dimuat. Jumlah baris: {df_traffic.count()}\")\n",
    "    df_traffic.printSchema()\n",
    "    df_traffic.show(5, truncate=False)\n",
    "except Exception as e:\n",
    "    print(f\"Error memuat data: {e}\")\n",
    "    # Hentikan eksekusi atau tangani error"
   ]
  },
  {
   "cell_type": "markdown",
   "id": "1ba0864b",
   "metadata": {},
   "source": [
    "# ## 3. Pembersihan Data Awal & Pemeriksaan Kualitas\n",
    "# Meskipun data di Silver Layer sudah dibersihkan, kita mungkin perlu melakukan pemeriksaan atau pembersihan tambahan spesifik untuk EDA.\n"
   ]
  },
  {
   "cell_type": "code",
   "execution_count": null,
   "id": "d0f789e1",
   "metadata": {},
   "outputs": [],
   "source": [
    "# Cek nilai null pada kolom-kolom penting untuk analisis ini\n",
    "print(\"Jumlah nilai null per kolom:\")\n",
    "df_traffic.select([count(when(col(c).isNull(), c)).alias(c) for c in [\"timestamp\", \"speed_kmh\", \"road_name\", \"latitude\", \"longitude\"]]).show()\n",
    "\n",
    "# Filter kecepatan yang tidak realistis (misalnya, speed_kmh <= 0 atau sangat tinggi > 150 km/h)\n",
    "df_traffic_filtered = df_traffic.filter((col(\"speed_kmh\") > 0) & (col(\"speed_kmh\") <= 150))\n",
    "print(f\"Jumlah baris setelah filter kecepatan: {df_traffic_filtered.count()}\")\n",
    "\n",
    "# Konversi timestamp jika belum atau ekstrak komponen waktu\n",
    "# Diasumsikan 'timestamp' sudah bertipe Timestamp dari proses Bronze-to-Silver\n",
    "df_traffic_filtered = df_traffic_filtered \\\n",
    "    .withColumn(\"jam\", hour(col(\"timestamp\"))) \\\n",
    "    .withColumn(\"hari_ke_minggu\", dayofweek(col(\"timestamp\"))) # 1=Minggu, 2=Senin, ..., 7=Sabtu\n"
   ]
  },
  {
   "cell_type": "markdown",
   "id": "02743168",
   "metadata": {},
   "source": [
    "# ## 4. Analisis Statistik Deskriptif Umum\n",
    "# Melihat statistik dasar dari kolom numerik utama."
   ]
  },
  {
   "cell_type": "code",
   "execution_count": null,
   "id": "86944fc9",
   "metadata": {},
   "outputs": [],
   "source": [
    "print(\"Statistik Deskriptif untuk Kecepatan (speed_kmh):\")\n",
    "df_traffic_filtered.select(\"speed_kmh\").describe().show()\n",
    "# Anda juga bisa melakukan ini untuk latitude, longitude jika relevan untuk analisis spasial awal\n"
   ]
  },
  {
   "cell_type": "markdown",
   "id": "e547af3f",
   "metadata": {},
   "source": [
    "# ## 5. Analisis Distribusi Kecepatan Kendaraan\n",
    "# Memahami sebaran kecepatan kendaraan secara keseluruhan.\n"
   ]
  },
  {
   "cell_type": "code",
   "execution_count": null,
   "id": "1100a410",
   "metadata": {},
   "outputs": [],
   "source": [
    "# Untuk visualisasi, lebih mudah mengambil sampel atau mengagregasi ke Pandas jika datanya besar\n",
    "# Hati-hati jika data sangat besar, ini bisa menyebabkan OutOfMemoryError\n",
    "speed_distribution_pd = df_traffic_filtered.select(\"speed_kmh\").sample(False, 0.1).toPandas() # Ambil sampel 10%\n",
    "\n",
    "plt.figure(figsize=(10, 6))\n",
    "sns.histplot(speed_distribution_pd['speed_kmh'], bins=50, kde=True)\n",
    "plt.title('Distribusi Kecepatan Kendaraan (speed_kmh) di Kota Medan')\n",
    "plt.xlabel('Kecepatan (km/h)')\n",
    "plt.ylabel('Frekuensi')\n",
    "plt.grid(True, linestyle='--', alpha=0.7)\n",
    "plt.show()"
   ]
  },
  {
   "cell_type": "markdown",
   "id": "7c527cd9",
   "metadata": {},
   "source": [
    "# **Interpretasi Distribusi Kecepatan:**\n",
    "# * Dari grafik di atas, kita dapat mengamati bahwa sebagian besar kecepatan kendaraan berkisar antara X km/jam hingga Y km/jam.\n",
    "# * Terdapat puncak distribusi di sekitar Z km/jam, yang mungkin merepresentasikan kecepatan jelajah normal di kondisi lalu lintas tertentu.\n",
    "# * Adanya *tail* ke arah kecepatan rendah menunjukkan adanya kejadian perlambatan atau kemacetan.\n"
   ]
  },
  {
   "cell_type": "markdown",
   "id": "defb29b1",
   "metadata": {},
   "source": [
    "# ## 6. Analisis Pola Temporal\n",
    "# Menganalisis bagaimana kecepatan dan volume lalu lintas berubah berdasarkan waktu (jam dalam sehari, hari dalam seminggu).\n"
   ]
  },
  {
   "cell_type": "markdown",
   "id": "fd5cf955",
   "metadata": {},
   "source": [
    "# ### 6.1 Kecepatan Rata-rata per Jam dalam Sehari\n"
   ]
  },
  {
   "cell_type": "code",
   "execution_count": null,
   "id": "569687c2",
   "metadata": {},
   "outputs": [],
   "source": [
    "avg_speed_per_hour = df_traffic_filtered.groupBy(\"jam\") \\\n",
    "    .agg(avg(\"speed_kmh\").alias(\"avg_speed\")) \\\n",
    "    .orderBy(\"jam\") \\\n",
    "    .toPandas()\n",
    "\n",
    "plt.figure(figsize=(12, 6))\n",
    "sns.lineplot(data=avg_speed_per_hour, x=\"jam\", y=\"avg_speed\", marker='o')\n",
    "plt.title('Kecepatan Rata-rata Kendaraan per Jam di Kota Medan')\n",
    "plt.xlabel('Jam dalam Sehari (0-23)')\n",
    "plt.ylabel('Kecepatan Rata-rata (km/h)')\n",
    "plt.xticks(range(0, 24))\n",
    "plt.grid(True, linestyle='--', alpha=0.7)\n",
    "plt.show()"
   ]
  },
  {
   "cell_type": "markdown",
   "id": "d58c6121",
   "metadata": {},
   "source": [
    "# **Interpretasi Kecepatan Rata-rata per Jam:**\n",
    "# * Grafik menunjukkan adanya penurunan kecepatan signifikan pada jam-jam sibuk pagi (sekitar pukul X-Y) dan sore (sekitar pukul A-B), yang mengindikasikan periode kemacetan.\n",
    "# * Kecepatan cenderung lebih tinggi pada jam-jam malam hingga dini hari.\n"
   ]
  },
  {
   "cell_type": "markdown",
   "id": "6dc39103",
   "metadata": {},
   "source": [
    "# ### 6.2 Volume Kendaraan (Jumlah Pengamatan) per Jam dalam Sehari"
   ]
  },
  {
   "cell_type": "code",
   "execution_count": null,
   "id": "8861eb9d",
   "metadata": {},
   "outputs": [],
   "source": [
    "volume_per_hour = df_traffic_filtered.groupBy(\"jam\") \\\n",
    "    .agg(count(\"*\").alias(\"vehicle_count\")) \\\n",
    "    .orderBy(\"jam\") \\\n",
    "    .toPandas()\n",
    "\n",
    "plt.figure(figsize=(12, 6))\n",
    "sns.barplot(data=volume_per_hour, x=\"jam\", y=\"vehicle_count\", color='skyblue')\n",
    "plt.title('Volume Kendaraan (Jumlah Pengamatan GPS) per Jam di Kota Medan')\n",
    "plt.xlabel('Jam dalam Sehari (0-23)')\n",
    "plt.ylabel('Jumlah Pengamatan Kendaraan')\n",
    "plt.xticks(range(0, 24))\n",
    "plt.grid(True, axis='y', linestyle='--', alpha=0.7)\n",
    "plt.show()"
   ]
  },
  {
   "cell_type": "markdown",
   "id": "162acf01",
   "metadata": {},
   "source": [
    "# **Interpretasi Volume Kendaraan per Jam:**\n",
    "# * Pola volume kendaraan sejalan dengan pola kecepatan, di mana puncak volume terjadi pada jam-jam sibuk.\n",
    "# * Volume terendah tercatat pada dini hari."
   ]
  },
  {
   "cell_type": "markdown",
   "id": "9ebf7943",
   "metadata": {},
   "source": [
    "# ### 6.3 Perbandingan Pola Hari Kerja vs. Akhir Pekan"
   ]
  },
  {
   "cell_type": "code",
   "execution_count": null,
   "id": "e42a158e",
   "metadata": {},
   "outputs": [],
   "source": [
    "df_traffic_filtered = df_traffic_filtered.withColumn(\"tipe_hari\",\n",
    "    when((col(\"hari_ke_minggu\") >= 2) & (col(\"hari_ke_minggu\") <= 6), \"Hari Kerja\") # Senin-Jumat\n",
    "    .otherwise(\"Akhir Pekan\") # Sabtu-Minggu\n",
    ")\n",
    "\n",
    "avg_speed_hourly_daytype = df_traffic_filtered.groupBy(\"jam\", \"tipe_hari\") \\\n",
    "    .agg(avg(\"speed_kmh\").alias(\"avg_speed\")) \\\n",
    "    .orderBy(\"tipe_hari\", \"jam\") \\\n",
    "    .toPandas()\n",
    "\n",
    "plt.figure(figsize=(14, 7))\n",
    "sns.lineplot(data=avg_speed_hourly_daytype, x=\"jam\", y=\"avg_speed\", hue=\"tipe_hari\", marker='o')\n",
    "plt.title('Perbandingan Kecepatan Rata-rata per Jam: Hari Kerja vs. Akhir Pekan')\n",
    "plt.xlabel('Jam dalam Sehari (0-23)')\n",
    "plt.ylabel('Kecepatan Rata-rata (km/h)')\n",
    "plt.xticks(range(0, 24))\n",
    "plt.legend(title='Tipe Hari')\n",
    "plt.grid(True, linestyle='--', alpha=0.7)\n",
    "plt.show()"
   ]
  },
  {
   "cell_type": "markdown",
   "id": "377438cc",
   "metadata": {},
   "source": [
    "# **Interpretasi Pola Hari Kerja vs. Akhir Pekan:**\n",
    "# * Terlihat perbedaan signifikan pada pola kecepatan. Pada hari kerja, penurunan kecepatan pada jam sibuk lebih tajam.\n",
    "# * Pada akhir pekan, kecepatan rata-rata cenderung lebih stabil atau penurunan pada jam sibuk tidak sedrastis hari kerja, namun mungkin ada puncak aktivitas di jam berbeda (misalnya, malam akhir pekan).\n"
   ]
  },
  {
   "cell_type": "markdown",
   "id": "0e4e4fe7",
   "metadata": {},
   "source": [
    "# ## 7. Analisis Pola Spasial (Contoh Sederhana)\n",
    "# Jika data `road_name` cukup baik, kita bisa melihat kecepatan rata-rata per ruas jalan.\n"
   ]
  },
  {
   "cell_type": "code",
   "execution_count": null,
   "id": "b6393c22",
   "metadata": {},
   "outputs": [],
   "source": [
    "# Hati-hati jika jumlah road_name sangat banyak, visualisasi bisa jadi tidak efektif\n",
    "# Ambil top N ruas jalan dengan pengamatan terbanyak atau kecepatan terendah\n",
    "top_n = 20\n",
    "avg_speed_per_road = df_traffic_filtered.filter(col(\"road_name\") != \"Unknown\") \\\n",
    "    .groupBy(\"road_name\") \\\n",
    "    .agg(\n",
    "        avg(\"speed_kmh\").alias(\"avg_speed\"),\n",
    "        count(\"*\").alias(\"observation_count\")\n",
    "    ) \\\n",
    "    .filter(col(\"observation_count\") > 50) # Filter ruas jalan dengan observasi yang cukup\n",
    "    .orderBy(col(\"avg_speed\")) \\\n",
    "    .limit(top_n) \\\n",
    "    .toPandas()\n",
    "\n",
    "if not avg_speed_per_road.empty:\n",
    "    plt.figure(figsize=(12, 8))\n",
    "    sns.barplot(data=avg_speed_per_road, y=\"road_name\", x=\"avg_speed\", palette=\"viridis\")\n",
    "    plt.title(f'Top {top_n} Ruas Jalan dengan Kecepatan Rata-rata Terendah (Potensi Macet)')\n",
    "    plt.xlabel('Kecepatan Rata-rata (km/h)')\n",
    "    plt.ylabel('Nama Ruas Jalan')\n",
    "    plt.tight_layout() # Agar label tidak terpotong\n",
    "    plt.show()\n",
    "else:\n",
    "    print(\"Tidak cukup data ruas jalan yang memenuhi kriteria untuk ditampilkan.\")\n"
   ]
  },
  {
   "cell_type": "markdown",
   "id": "0db1d0a8",
   "metadata": {},
   "source": [
    "# **Interpretasi Analisis Spasial:**\n",
    "# * Dari grafik (jika ada), kita dapat mengidentifikasi beberapa ruas jalan spesifik yang memiliki kecepatan rata-rata paling rendah, yang mengindikasikan bahwa ruas-ruas jalan tersebut adalah titik rawan kemacetan.\n",
    "# * Informasi ini sangat berharga untuk investigasi lebih lanjut atau sebagai fitur dalam model.\n"
   ]
  },
  {
   "cell_type": "markdown",
   "id": "6509c725",
   "metadata": {},
   "source": [
    "# ## 8. Kesimpulan Awal dan Hipotesis dari EDA Trafik\n",
    "# Berdasarkan analisis eksploratif data trafik ini, beberapa kesimpulan awal dan hipotesis dapat ditarik:\n",
    "# 1.  **Pola Temporal Jelas**: Terdapat pola harian yang jelas terkait kecepatan dan volume lalu lintas, dengan jam sibuk pagi dan sore menunjukkan penurunan kecepatan dan peningkatan volume. Perbedaan juga terlihat antara hari kerja dan akhir pekan.\n",
    "# 2.  **Identifikasi Potensi Kemacetan**: Kecepatan kendaraan yang rendah pada jam-jam tertentu dan di ruas jalan tertentu mengindikasikan area dan waktu potensi kemacetan.\n",
    "# 3.  **Kualitas Data**: Meskipun telah dibersihkan di Silver Layer, data kecepatan masih memerlukan filter untuk menghilangkan nilai yang tidak realistis agar analisis lebih akurat. Keberadaan `road_name` yang \"Unknown\" perlu diperhatikan.\n",
    "# 4.  **Hipotesis untuk Pemodelan**:\n",
    "#     * Fitur waktu (jam, hari dalam seminggu, tipe hari) akan menjadi prediktor penting.\n",
    "#     * Nama ruas jalan (setelah di-encode) kemungkinan akan signifikan.\n",
    "#     * Kecepatan rata-rata pada jam sebelumnya (fitur lag) bisa meningkatkan akurasi prediksi.\n",
    "#\n",
    "# Analisis lebih lanjut pada notebook `eda_weather_impact.ipynb` akan menggali bagaimana faktor cuaca berinteraksi dengan pola-pola ini. Insight dari `feature_insights.ipynb` akan digunakan untuk memvalidasi dan memilih fitur terbaik untuk model.\n"
   ]
  },
  {
   "cell_type": "code",
   "execution_count": null,
   "id": "170a413e",
   "metadata": {},
   "outputs": [],
   "source": [
    "# Hentikan SparkSession di akhir notebook\n",
    "spark.stop()"
   ]
  }
 ],
 "metadata": {
  "language_info": {
   "name": "python"
  }
 },
 "nbformat": 4,
 "nbformat_minor": 5
}
